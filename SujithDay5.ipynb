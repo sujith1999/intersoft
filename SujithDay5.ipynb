{
 "cells": [
  {
   "cell_type": "code",
   "execution_count": 3,
   "metadata": {},
   "outputs": [],
   "source": [
    "import math"
   ]
  },
  {
   "cell_type": "code",
   "execution_count": 4,
   "metadata": {},
   "outputs": [
    {
     "data": {
      "text/plain": [
       "3"
      ]
     },
     "execution_count": 4,
     "metadata": {},
     "output_type": "execute_result"
    }
   ],
   "source": [
    "math.ceil(2.1)"
   ]
  },
  {
   "cell_type": "code",
   "execution_count": 5,
   "metadata": {},
   "outputs": [
    {
     "data": {
      "text/plain": [
       "1"
      ]
     },
     "execution_count": 5,
     "metadata": {},
     "output_type": "execute_result"
    }
   ],
   "source": [
    "math.floor(1.89)"
   ]
  },
  {
   "cell_type": "code",
   "execution_count": 6,
   "metadata": {},
   "outputs": [
    {
     "name": "stdout",
     "output_type": "stream",
     "text": [
      "['__doc__', '__loader__', '__name__', '__package__', '__spec__', 'acos', 'acosh', 'asin', 'asinh', 'atan', 'atan2', 'atanh', 'ceil', 'comb', 'copysign', 'cos', 'cosh', 'degrees', 'dist', 'e', 'erf', 'erfc', 'exp', 'expm1', 'fabs', 'factorial', 'floor', 'fmod', 'frexp', 'fsum', 'gamma', 'gcd', 'hypot', 'inf', 'isclose', 'isfinite', 'isinf', 'isnan', 'isqrt', 'ldexp', 'lgamma', 'log', 'log10', 'log1p', 'log2', 'modf', 'nan', 'perm', 'pi', 'pow', 'prod', 'radians', 'remainder', 'sin', 'sinh', 'sqrt', 'tan', 'tanh', 'tau', 'trunc']\n"
     ]
    }
   ],
   "source": [
    "print(dir(math))"
   ]
  },
  {
   "cell_type": "code",
   "execution_count": 7,
   "metadata": {},
   "outputs": [
    {
     "name": "stdout",
     "output_type": "stream",
     "text": [
      "writing completed\n"
     ]
    }
   ],
   "source": [
    "try:\n",
    "    f=open(\"testfile\",\"w\")\n",
    "    f.write(\"write this\")\n",
    "except:\n",
    "    print(\"error occured missing file\")\n",
    "else:\n",
    "    print(\"writing completed\")\n",
    "    f.close()\n"
   ]
  },
  {
   "cell_type": "code",
   "execution_count": 8,
   "metadata": {},
   "outputs": [
    {
     "name": "stdout",
     "output_type": "stream",
     "text": [
      "Error: Could not find file or read data\n"
     ]
    }
   ],
   "source": [
    "try:\n",
    "    f = open('testfile','r')\n",
    "    f.write('Test write this')\n",
    "except IOError:\n",
    "    # This will only check for an IOError exception and then execute this print statement\n",
    "   print(\"Error: Could not find file or read data\")\n",
    "else:\n",
    "   print(\"Content written successfully\")\n",
    "   f.close()"
   ]
  },
  {
   "cell_type": "code",
   "execution_count": 9,
   "metadata": {},
   "outputs": [
    {
     "name": "stdout",
     "output_type": "stream",
     "text": [
      "Always execute finally code blocks\n"
     ]
    }
   ],
   "source": [
    "try:\n",
    "   f = open(\"testfile\", \"w\")\n",
    "   f.write(\"Test write statement\")\n",
    "finally:\n",
    "   print(\"Always execute finally code blocks\")"
   ]
  },
  {
   "cell_type": "code",
   "execution_count": 10,
   "metadata": {},
   "outputs": [],
   "source": [
    "def check():\n",
    "    try:\n",
    "        val=int(input(\"please enter a number\"))\n",
    "    except:\n",
    "        print(\"looks like you have not entered an integer\")\n",
    "    finally:\n",
    "        print(\"work done\")"
   ]
  },
  {
   "cell_type": "code",
   "execution_count": 11,
   "metadata": {},
   "outputs": [
    {
     "name": "stdout",
     "output_type": "stream",
     "text": [
      "please enter a number23\n",
      "work done\n"
     ]
    }
   ],
   "source": [
    "check()"
   ]
  },
  {
   "cell_type": "code",
   "execution_count": 12,
   "metadata": {},
   "outputs": [
    {
     "name": "stdout",
     "output_type": "stream",
     "text": [
      "please enter a numbersuj\n",
      "looks like you have not entered an integer\n",
      "work done\n"
     ]
    }
   ],
   "source": [
    "check()"
   ]
  },
  {
   "cell_type": "code",
   "execution_count": 13,
   "metadata": {},
   "outputs": [],
   "source": [
    "def checker():\n",
    "    while True:\n",
    "        try:\n",
    "            val = int(input(\"enter a number\"))\n",
    "        except:\n",
    "            print(\"do enter a number this time\")\n",
    "            continue\n",
    "        else:\n",
    "            print(\"thank you for entering an integer\")\n",
    "            break \n",
    "        finally:\n",
    "            print(\"work done\")\n",
    "        print(val)        "
   ]
  },
  {
   "cell_type": "code",
   "execution_count": 14,
   "metadata": {},
   "outputs": [
    {
     "name": "stdout",
     "output_type": "stream",
     "text": [
      "enter a number23\n",
      "thank you for entering an integer\n",
      "work done\n"
     ]
    }
   ],
   "source": [
    "checker()"
   ]
  },
  {
   "cell_type": "code",
   "execution_count": 21,
   "metadata": {},
   "outputs": [
    {
     "data": {
      "text/plain": [
       "<sqlite3.Cursor at 0x252e5ecda40>"
      ]
     },
     "execution_count": 21,
     "metadata": {},
     "output_type": "execute_result"
    }
   ],
   "source": [
    "import sqlite3\n",
    "\n",
    "db= sqlite3.connect(\"myDB1\")\n",
    "\n",
    "db.execute(\"drop table if exists grades1\")\n",
    "\n",
    "db.execute(\"create table grades1(id int, name text, score int)\")\n",
    "\n",
    "db.execute(\"insert into grades1(id , name , score) values(101,'sujith',90)\")\n",
    "db.execute(\"insert into grades1(id , name ,score) values(102,'ragul',88)\")\n",
    "db.execute(\"insert into grades1(id , name , score) values(103,'Balaji',84)\")\n",
    "db.execute(\"insert into grades1(id , name , score) values(104,'karna',79)\")\n",
    "db.execute(\"insert into grades1(id , name , score) values(105,'jeetham',92)\")"
   ]
  },
  {
   "cell_type": "code",
   "execution_count": 22,
   "metadata": {},
   "outputs": [],
   "source": [
    "db.commit()"
   ]
  },
  {
   "cell_type": "code",
   "execution_count": 24,
   "metadata": {},
   "outputs": [
    {
     "name": "stdout",
     "output_type": "stream",
     "text": [
      "(101, 'sujith', 90)\n",
      "(102, 'ragul', 88)\n",
      "(103, 'Balaji', 84)\n",
      "(104, 'karna', 79)\n",
      "(105, 'jeetham', 92)\n"
     ]
    }
   ],
   "source": [
    "results = db.execute(\"select * from grades1\")\n",
    "for row in results:\n",
    "    print(row)\n",
    "    "
   ]
  },
  {
   "cell_type": "code",
   "execution_count": 29,
   "metadata": {},
   "outputs": [
    {
     "name": "stdout",
     "output_type": "stream",
     "text": [
      "(101, 'sujith', 90)\n",
      "(105, 'jeetham', 92)\n"
     ]
    }
   ],
   "source": [
    "results = db.execute(\"select * from grades1 where score >=90\")\n",
    "for row in results:\n",
    "                         print(row)"
   ]
  },
  {
   "cell_type": "code",
   "execution_count": 30,
   "metadata": {},
   "outputs": [
    {
     "name": "stdout",
     "output_type": "stream",
     "text": [
      "(101, 'sujith', 90)\n",
      "(102, 'ragul', 88)\n",
      "(103, 'Balaji', 84)\n",
      "(104, 'karna', 79)\n",
      "(105, 'jeetham', 92)\n",
      "--------------------------------------------------\n"
     ]
    }
   ],
   "source": [
    "results = db.execute(\"select * from grades1 order by id\")\n",
    "for row in results:\n",
    "    print(row)\n",
    "print(\"-\" * 50 )"
   ]
  },
  {
   "cell_type": "code",
   "execution_count": 36,
   "metadata": {},
   "outputs": [
    {
     "name": "stdout",
     "output_type": "stream",
     "text": [
      "('sujith', 90)\n",
      "('ragul', 88)\n",
      "('jeetham', 92)\n"
     ]
    }
   ],
   "source": [
    "results = db.execute(\"select name,score from grades1 where score >85\")\n",
    "for row in results:\n",
    "                     print(row)"
   ]
  },
  {
   "cell_type": "code",
   "execution_count": null,
   "metadata": {},
   "outputs": [],
   "source": []
  }
 ],
 "metadata": {
  "kernelspec": {
   "display_name": "Python 3",
   "language": "python",
   "name": "python3"
  },
  "language_info": {
   "codemirror_mode": {
    "name": "ipython",
    "version": 3
   },
   "file_extension": ".py",
   "mimetype": "text/x-python",
   "name": "python",
   "nbconvert_exporter": "python",
   "pygments_lexer": "ipython3",
   "version": "3.8.3"
  }
 },
 "nbformat": 4,
 "nbformat_minor": 4
}
