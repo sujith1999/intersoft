{
 "cells": [
  {
   "cell_type": "code",
   "execution_count": 1,
   "metadata": {},
   "outputs": [],
   "source": [
    "import os\n",
    "import time\n",
    "import subprocess\n",
    "import speech_recognition as sr\n",
    "import pyttsx3\n",
    "import wikipedia\n",
    "import wolframalpha\n",
    "import webbrowser\n",
    "import datetime\n",
    "import json\n",
    "import requests"
   ]
  },
  {
   "cell_type": "code",
   "execution_count": 2,
   "metadata": {},
   "outputs": [
    {
     "name": "stdout",
     "output_type": "stream",
     "text": [
      "LOADING YOUR AI PERSONAL ASSISTANT JOHNY\n"
     ]
    }
   ],
   "source": [
    "print('LOADING YOUR AI PERSONAL ASSISTANT JOHNY')"
   ]
  },
  {
   "cell_type": "code",
   "execution_count": 3,
   "metadata": {},
   "outputs": [],
   "source": [
    "engine = pyttsx3.init('sapi5')\n",
    "voices = engine.getProperty('voices')\n",
    "engine.setProperty('voices','voices[3].id')"
   ]
  },
  {
   "cell_type": "code",
   "execution_count": 4,
   "metadata": {},
   "outputs": [],
   "source": [
    "def speak(text):\n",
    "    engine.say(text)\n",
    "    engine.runAndWait()"
   ]
  },
  {
   "cell_type": "code",
   "execution_count": 5,
   "metadata": {},
   "outputs": [],
   "source": [
    "def wishMe():\n",
    "    hour = datetime.datetime.now().hour\n",
    "    if hour >= 0 and hour < 12:\n",
    "        speak(\"Hello, Good Morning Mr.SUJITH\")\n",
    "        print(\"Hello, Good Morning Mr.SUJITH\")\n",
    "    elif hour >=12 and hour <=18:\n",
    "        speak(\"Hello, Good Evening Mr.SUJITH\")\n",
    "        print(\"Hello, Good Evening Mr.SUJITH\")\n",
    "    else :\n",
    "        speak(\"its already night,  better go to sleep SUJITH\")\n",
    "        print(\"its alreadt night,  better go to sleep SUJITH\")"
   ]
  },
  {
   "cell_type": "code",
   "execution_count": 6,
   "metadata": {},
   "outputs": [],
   "source": [
    "def takeCommand():\n",
    "    r = sr.Recognizer()\n",
    "    with sr.Microphone() as source:\n",
    "        print(\"I AM LISTENING\")\n",
    "        audio = r.listen(source)\n",
    "\n",
    "        try:\n",
    "            statement = r.recognize_google(audio,language='en-in')\n",
    "            print(f\"user said:{statement}\\n\")\n",
    "        except Exception as e:\n",
    "            speak(\" please say that again\")\n",
    "            return \"None\"\n",
    "        return statement"
   ]
  },
  {
   "cell_type": "code",
   "execution_count": 7,
   "metadata": {},
   "outputs": [
    {
     "name": "stdout",
     "output_type": "stream",
     "text": [
      "Hello, Good Evening Mr.SUJITH\n"
     ]
    }
   ],
   "source": [
    "speak('LOADING YOUR AI PERSONAL ASSISTANT.....JOHNY.....')\n",
    "wishMe()"
   ]
  },
  {
   "cell_type": "code",
   "execution_count": null,
   "metadata": {},
   "outputs": [
    {
     "name": "stdout",
     "output_type": "stream",
     "text": [
      "I AM LISTENING\n"
     ]
    }
   ],
   "source": [
    "if __name__==\"__main__\":\n",
    "    while True:\n",
    "        speak(\"How MAY i help you ?\")\n",
    "        statement=takeCommand().lower()\n",
    "        if statement == 0:\n",
    "            continue\n",
    "        if \"good bye\" in statement or \"ok bye\" in statement  or \"stop\" in statement :\n",
    "            speak(\"Your personal AI assistant JOHNY is shuttingdown.....,Good bye\")\n",
    "            print(\"Your personal AI assistant MILO is shuttingdown.....,Good bye\")\n",
    "            break\n",
    "        if 'wikipedia' in statement:\n",
    "            speak(\"Searching Wikipedia.\")\n",
    "            print(\"Searching Wikipedia\")\n",
    "            statement= statement.replace(\"wikipedia\",\"\")\n",
    "            results=wikipedia.summary(statement , sentences  = 3)\n",
    "            speak(\"According to wikipedia....\")\n",
    "            print(results)\n",
    "            speak(results)\n",
    "        elif 'open youtube' in statement:\n",
    "            webbrowser.open_new_tab(\"https://www.youtube.com/\")\n",
    "            speak(\"Youtube is open for you \")\n",
    "            time.sleep(5)\n",
    "        elif \"open google\" in statement:\n",
    "            webbrowser.open_new_tab(\"https://www.goolge.com\")\n",
    "            speak(\"Google is now open for you\")\n",
    "            time.sleep(5)\n",
    "        elif \"open gmail\" in statement:\n",
    "            webbrowser.open_new_tab(\"https://accounts.google.com/login\")\n",
    "            speak(\"Your gmail is open for you\")\n",
    "            time.sleep(5)\n",
    "       \n",
    "        elif \"weather\" in statement :\n",
    "            api_key = \"8ef61edcf1c576d65d836254e11ea420\"\n",
    "            base_url = \"http://api.openweathermap.org/data/2.5/weather?\"\n",
    "            speak(\"What is the city name?\")\n",
    "            city_name=takeCommand()\n",
    "            complete_url = base_url + \"appid=\" + api_key + \"&q=\" + city_name \n",
    "            response = requests.get(complete_url) \n",
    "            x = response.json() \n",
    "            if x[\"cod\"] != \"404\": \n",
    "                y = x[\"main\"] \n",
    "                current_temperature = y[\"temp\"] \n",
    "                current_humidity = y[\"humidity\"] \n",
    "                z = x[\"weather\"]\n",
    "                weather_description = z[0][\"description\"]\n",
    "                speak(\"the temperature in kelvin units is \" + str(current_temperature) + \"\\n humidity in percentage is \"+ str (current_humidity))\n",
    "                print(\"the temperature in kelvin units is \" + str(current_temperature) + \"\\n humidity in percentage is \"+ str (current_humidity))\n",
    "            else:\n",
    "                speak(\"place not found\")\n",
    "                print(\"place not found\")\n",
    "        elif \"time\" in statement :\n",
    "            strTime = datetime.datetime.now().strftime(\"%H:%M:%S\")\n",
    "            speak(f\"the time is {strTime}\")\n",
    "        elif \"who built you\" in statement:\n",
    "            speak(\"SUJITH built me\")\n",
    "            print(\"SUJITH built me\")\n",
    "        elif \"who are you\" in statement:\n",
    "            speak('I am JOHNY  your personel assistant. I am programmed to minor tasks like'\n",
    "            'opening youtube,google chrome,stackoverflow  and gmail , tell  time, search in browser,search  wikipedia ')\n",
    "            print(\"\")\n",
    "        elif \"open stack overflow\" in statement:\n",
    "            webbrowser.open_new_tab(\"https://stackoverflow.com\")\n",
    "            time.sleep(5)\n",
    "        elif \"news\" in statement :\n",
    "            webbrowser.open_new_tab(\"https://timesofindia.indiatimes.com/\")\n",
    "            speak(\"here are some news\")\n",
    "            time.sleep(7)\n",
    "        elif \"search\" in statement :\n",
    "            statement = statement.replace(\"search\",\" \")\n",
    "            webbrowser.open_new_tab(\"statement\")\n",
    "            time.sleep(5)\n",
    "        elif 'ask' in statement:\n",
    "            speak(\"I can answer to  computational and geographical questions to try me!! What do you want to ask\")\n",
    "            question = takeCommand()\n",
    "            app_id = \"R2K75H-7ELALHR35X\"\n",
    "            client = wolframalpha.Client('R2K75H-7ELALHR35X')\n",
    "            res = client.query(question)\n",
    "            answer = next(res.results).text\n",
    "            speak(answer)\n",
    "            print(answer)\n",
    "        # elif \"log off\" in statement or \"sign out\" in statement:\n",
    "            #speak(\"Ok , your pc will log off in 30 sec make sure you exit from all applications\")\n",
    "           # subprocess.call([\"shutdown\", \"/l\"])\n",
    "time.sleep(3)"
   ]
  },
  {
   "cell_type": "code",
   "execution_count": null,
   "metadata": {},
   "outputs": [],
   "source": []
  }
 ],
 "metadata": {
  "kernelspec": {
   "display_name": "Python 3",
   "language": "python",
   "name": "python3"
  },
  "language_info": {
   "codemirror_mode": {
    "name": "ipython",
    "version": 3
   },
   "file_extension": ".py",
   "mimetype": "text/x-python",
   "name": "python",
   "nbconvert_exporter": "python",
   "pygments_lexer": "ipython3",
   "version": "3.8.3"
  }
 },
 "nbformat": 4,
 "nbformat_minor": 4
}
